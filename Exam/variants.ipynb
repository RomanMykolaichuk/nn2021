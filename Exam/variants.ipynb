{
 "cells": [
  {
   "cell_type": "markdown",
   "metadata": {},
   "source": [
    "# Розподіл варіантів для іспиту"
   ]
  },
  {
   "cell_type": "markdown",
   "metadata": {},
   "source": [
    "### Завантажуємо текст варіанту"
   ]
  },
  {
   "cell_type": "code",
   "execution_count": 32,
   "metadata": {},
   "outputs": [],
   "source": [
    "\n",
    "with open('TaskSample.txt', encoding = 'utf-8', mode = 'r') as f:\n",
    "    lines=f.readlines()\n",
    "text = ''.join(lines)"
   ]
  },
  {
   "cell_type": "markdown",
   "metadata": {},
   "source": [
    "### Створюємо масив варіантів"
   ]
  },
  {
   "cell_type": "code",
   "execution_count": 33,
   "metadata": {},
   "outputs": [],
   "source": [
    "\n",
    "\n",
    "dataset=['https://keras.io/api/datasets/cifar10/','https://keras.io/api/datasets/mnist/']\n",
    "filters=[4,5]\n",
    "methods=['SGD','Adam']\n",
    "models=['Resnet','Efficientnet']\n",
    "additional=['Pretrained model fine-tuning','Learning rate fine-tuning']\n",
    "\n",
    "variants = []\n",
    "\n",
    "for g in range(len(dataset)):\n",
    "    for i in range(len(filters)):\n",
    "        for j in range(len(methods)):\n",
    "            for k in range(len(models)):\n",
    "                for m in range(len(additional)):\n",
    "                    variants.append((dataset[g],filters[i],methods[j],models[k],additional[m]))"
   ]
  },
  {
   "cell_type": "markdown",
   "metadata": {},
   "source": [
    "### Формуємо розподіл варіантів"
   ]
  },
  {
   "cell_type": "code",
   "execution_count": 34,
   "metadata": {},
   "outputs": [
    {
     "data": {
      "text/plain": [
       "array([ 7,  1, 26, 30, 13, 14, 28,  8, 18, 22, 10, 21, 27, 31,  4, 19, 17,\n",
       "       24,  6,  9, 11,  0,  2, 23,  5, 12, 15, 29, 16, 25, 20,  3])"
      ]
     },
     "execution_count": 34,
     "metadata": {},
     "output_type": "execute_result"
    }
   ],
   "source": [
    "import numpy as np \n",
    "\n",
    "seed=6717\n",
    "\n",
    "variant_distribution = np.array(range(len(variants)))\n",
    "np.random.seed(seed)\n",
    "np.random.shuffle(variant_distribution)\n",
    "variant_distribution"
   ]
  },
  {
   "cell_type": "markdown",
   "metadata": {},
   "source": [
    "### Генеруємо варіанти"
   ]
  },
  {
   "cell_type": "code",
   "execution_count": 35,
   "metadata": {},
   "outputs": [],
   "source": [
    "quiz=''\n",
    "\n",
    "N_students=13\n",
    "\n",
    "for i in range(N_students):\n",
    "    index=variant_distribution[i]\n",
    "    quiz+=text.format(i+1,variants[index][0],variants[index][1]\n",
    "    ,variants[index][2],variants[index][3],variants[index][4])\n"
   ]
  },
  {
   "cell_type": "markdown",
   "metadata": {},
   "source": [
    "### Записуємо у файл"
   ]
  },
  {
   "cell_type": "code",
   "execution_count": 36,
   "metadata": {},
   "outputs": [],
   "source": [
    "from datetime import datetime\n",
    "now=datetime.now().strftime(\"_%b-%d-%Y\")\n",
    "\n",
    "filename = 'TasksNN'+now+'.txt'\n",
    "\n",
    "tasks=open(filename,'w', encoding='utf8')\n",
    "tasks.write(quiz)\n",
    "tasks.close()"
   ]
  }
 ],
 "metadata": {
  "interpreter": {
   "hash": "45c35a36beb3d1c2f42a56be9142246513f9d24015e8e4e22f7c95d5b06ff02e"
  },
  "kernelspec": {
   "display_name": "Python 3.7.11 64-bit ('tutorialspoint': conda)",
   "language": "python",
   "name": "python3"
  },
  "language_info": {
   "codemirror_mode": {
    "name": "ipython",
    "version": 3
   },
   "file_extension": ".py",
   "mimetype": "text/x-python",
   "name": "python",
   "nbconvert_exporter": "python",
   "pygments_lexer": "ipython3",
   "version": "3.7.11"
  },
  "orig_nbformat": 4
 },
 "nbformat": 4,
 "nbformat_minor": 2
}
